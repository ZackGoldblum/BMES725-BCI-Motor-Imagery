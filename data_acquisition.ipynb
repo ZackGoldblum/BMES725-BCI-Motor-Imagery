{
 "metadata": {
  "language_info": {
   "codemirror_mode": {
    "name": "ipython",
    "version": 3
   },
   "file_extension": ".py",
   "mimetype": "text/x-python",
   "name": "python",
   "nbconvert_exporter": "python",
   "pygments_lexer": "ipython3",
   "version": "3.9.0"
  },
  "orig_nbformat": 2,
  "kernelspec": {
   "name": "python390jvsc74a57bd0bd9b6b4994d3bb2f3181bdd53871f722d7a4323dd9d419f0561d20da3c614246",
   "display_name": "Python 3.9.0 64-bit"
  },
  "metadata": {
   "interpreter": {
    "hash": "bd9b6b4994d3bb2f3181bdd53871f722d7a4323dd9d419f0561d20da3c614246"
   }
  }
 },
 "nbformat": 4,
 "nbformat_minor": 2,
 "cells": [
  {
   "cell_type": "code",
   "execution_count": 7,
   "metadata": {},
   "outputs": [
    {
     "output_type": "stream",
     "name": "stdout",
     "text": [
      "Saving data in: c:\\Users\\Zack\\OneDrive\\Drexel\\2021 - 2022\\BMES 725\\Final Project\\BMES725-BCI-Motor-Imagery\\raw_eeg_data\\left\\raw_eeg_data\\left\n"
     ]
    }
   ],
   "source": [
    "import time\n",
    "import os\n",
    "import mne\n",
    "import pprint\n",
    "import numpy as np\n",
    "import pandas as pd\n",
    "import matplotlib.pyplot as plt\n",
    "\n",
    "import brainflow\n",
    "from brainflow.board_shim import BoardIds, BrainFlowInputParams, BoardShim\n",
    "from brainflow.data_filter import DataFilter\n",
    "\n",
    "session_class = \"left\"  # motor imagey class for this session\n",
    "\n",
    "# main directory\n",
    "main_dir = os.getcwd()\n",
    "# eeg data directory\n",
    "eeg_dir = os.path.join(main_dir, \"raw_eeg_data\", str(session_class))\n",
    "print(\"Saving data in: \" + str(eeg_dir))\n",
    "\n",
    "# OpenBCI Cyton board\n",
    "cyton_board_ID = 0\n",
    "#print(\"\\n\" + str(BoardIds(cyton_board_ID)))  \n",
    "\n",
    "# serial connection\n",
    "serial_port = 'COM3'\n",
    "params = BrainFlowInputParams()\n",
    "params.serial_port = serial_port\n",
    "\n",
    "# create board\n",
    "board = BoardShim(board_id=cyton_board_ID, input_params=params)\n",
    "\n",
    "# board attributes\n",
    "board_name = board.get_device_name(board_id=board.board_id)\n",
    "channel_names = board.get_eeg_names(board_id=board.board_id)\n",
    "samp_freq = board.get_sampling_rate(board_id=board.board_id)  # 250 Hz\n",
    "eeg_channel_idx = board.get_eeg_channels(board_id=board.board_id)  # EEG channel indices (1-8)\n",
    "timestamp_channel = board.get_timestamp_channel(board_id=board.board_id)"
   ]
  },
  {
   "cell_type": "code",
   "execution_count": 15,
   "metadata": {},
   "outputs": [
    {
     "output_type": "stream",
     "name": "stdout",
     "text": [
      "\n",
      "Session ready.\n",
      "--------------\n",
      "\n",
      "Streaming data...\n",
      "Session ended.\n",
      "(24, 1204)\n",
      "(1204, 24)\n",
      "(1204, 8)\n"
     ]
    }
   ],
   "source": [
    "board.prepare_session()\n",
    "print(\"\\nSession ready.\")\n",
    "print(\"--------------\")\n",
    "# start data stream\n",
    "board.start_stream()\n",
    "print(\"\\nStreaming data...\")\n",
    "\n",
    "# number of seconds to record\n",
    "time.sleep(5)\n",
    "\n",
    "# get all data\n",
    "data = board.get_board_data() \n",
    "# stop the data stream\n",
    "board.stop_stream()\n",
    "board.release_session()\n",
    "print(\"Session ended.\")\n",
    "\n",
    "print(str(np.shape(data)))\n",
    "dataT = np.transpose(data)\n",
    "print(str(np.shape(dataT)))\n",
    "eeg_data = dataT[:, eeg_channel_idx]\n",
    "print(str(np.shape(eeg_data)))"
   ]
  },
  {
   "cell_type": "code",
   "execution_count": null,
   "metadata": {},
   "outputs": [],
   "source": []
  },
  {
   "cell_type": "code",
   "execution_count": 9,
   "metadata": {},
   "outputs": [
    {
     "output_type": "stream",
     "name": "stdout",
     "text": [
      "\n",
      "Session ready.\n",
      "--------------\n",
      "\n",
      "Streaming data...\n",
      "Session ended.\n"
     ]
    },
    {
     "output_type": "error",
     "ename": "FileNotFoundError",
     "evalue": "[WinError 3] The system cannot find the path specified: 'c:\\\\Users\\\\Zack\\\\OneDrive\\\\Drexel\\\\2021 - 2022\\\\BMES 725\\\\Final Project\\\\BMES725-BCI-Motor-Imagery\\\\raw_eeg_data\\\\left\\\\raw_eeg_data\\\\left'",
     "traceback": [
      "\u001b[1;31m---------------------------------------------------------------------------\u001b[0m",
      "\u001b[1;31mFileNotFoundError\u001b[0m                         Traceback (most recent call last)",
      "\u001b[1;32m<ipython-input-9-d48c304a7475>\u001b[0m in \u001b[0;36m<module>\u001b[1;34m\u001b[0m\n\u001b[0;32m     21\u001b[0m \u001b[1;31m# save recorded eeg data\u001b[0m\u001b[1;33m\u001b[0m\u001b[1;33m\u001b[0m\u001b[1;33m\u001b[0m\u001b[0m\n\u001b[0;32m     22\u001b[0m \u001b[0mfilename\u001b[0m \u001b[1;33m=\u001b[0m \u001b[0mstr\u001b[0m\u001b[1;33m(\u001b[0m\u001b[0minitial_timestamp\u001b[0m\u001b[1;33m)\u001b[0m \u001b[1;33m+\u001b[0m \u001b[1;34m'.txt'\u001b[0m\u001b[1;33m\u001b[0m\u001b[1;33m\u001b[0m\u001b[0m\n\u001b[1;32m---> 23\u001b[1;33m \u001b[0mos\u001b[0m\u001b[1;33m.\u001b[0m\u001b[0mchdir\u001b[0m\u001b[1;33m(\u001b[0m\u001b[0meeg_dir\u001b[0m\u001b[1;33m)\u001b[0m\u001b[1;33m\u001b[0m\u001b[1;33m\u001b[0m\u001b[0m\n\u001b[0m\u001b[0;32m     24\u001b[0m \u001b[0mDataFilter\u001b[0m\u001b[1;33m.\u001b[0m\u001b[0mwrite_file\u001b[0m\u001b[1;33m(\u001b[0m\u001b[0mdata\u001b[0m\u001b[1;33m,\u001b[0m \u001b[0mfilename\u001b[0m\u001b[1;33m,\u001b[0m \u001b[1;34m'w'\u001b[0m\u001b[1;33m)\u001b[0m\u001b[1;33m\u001b[0m\u001b[1;33m\u001b[0m\u001b[0m\n",
      "\u001b[1;31mFileNotFoundError\u001b[0m: [WinError 3] The system cannot find the path specified: 'c:\\\\Users\\\\Zack\\\\OneDrive\\\\Drexel\\\\2021 - 2022\\\\BMES 725\\\\Final Project\\\\BMES725-BCI-Motor-Imagery\\\\raw_eeg_data\\\\left\\\\raw_eeg_data\\\\left'"
     ]
    }
   ],
   "source": [
    "# prepare the board for data stream\n",
    "board.prepare_session()\n",
    "print(\"\\nSession ready.\")\n",
    "print(\"--------------\")\n",
    "# start data stream\n",
    "board.start_stream()\n",
    "print(\"\\nStreaming data...\")\n",
    "\n",
    "# number of seconds to record\n",
    "time.sleep(10)\n",
    "\n",
    "# get all data\n",
    "data = board.get_board_data()  \n",
    "# stop the data stream\n",
    "board.stop_stream()\n",
    "board.release_session()\n",
    "print(\"Session ended.\")\n",
    "\n",
    "initial_timestamp = data[timestamp_channel, 0]\n",
    "\n",
    "# save recorded eeg data\n",
    "filename = str(initial_timestamp) + '.txt'\n",
    "os.chdir(eeg_dir)\n",
    "DataFilter.write_file(data, filename, 'w')"
   ]
  },
  {
   "cell_type": "code",
   "execution_count": 6,
   "metadata": {},
   "outputs": [
    {
     "output_type": "execute_result",
     "data": {
      "text/plain": [
       "(32, 16, 60)"
      ]
     },
     "metadata": {},
     "execution_count": 6
    }
   ],
   "source": [
    "reshape = (-1, 16, 60)\n",
    "x=np.zeros((32,16,60)).reshape(reshape)\n",
    "np.shape(x)"
   ]
  }
 ]
}