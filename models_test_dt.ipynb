{
 "cells": [
  {
   "cell_type": "code",
   "execution_count": 42,
   "id": "aggressive-lunch",
   "metadata": {},
   "outputs": [],
   "source": [
    "import mne\n",
    "import os\n",
    "from os import listdir\n",
    "from os.path import isfile, join\n",
    "import numpy as np\n",
    "import matplotlib.pyplot as plt\n",
    "from arleegmodels.EEGModels import EEGNet,DeepConvNet,ShallowConvNet\n",
    "import pandas as pd\n",
    "\n",
    "# EEGNet-specific imports\n",
    "from arleegmodels.EEGModels import EEGNet\n",
    "from tensorflow.keras import utils as np_utils\n",
    "from tensorflow.keras.callbacks import ModelCheckpoint\n",
    "from tensorflow.keras import backend as K\n",
    "\n",
    "\n"
   ]
  },
  {
   "cell_type": "code",
   "execution_count": 16,
   "id": "recent-disease",
   "metadata": {},
   "outputs": [
    {
     "name": "stdout",
     "output_type": "stream",
     "text": [
      "Extracting EDF parameters from /Users/danieljthompson/Desktop/BMES 725/BMES725-BCI-Motor-Imagery/BCIC_IV_2a/A01E.gdf...\n",
      "GDF file detected\n",
      "Setting channel info structure...\n",
      "Creating raw.info structure...\n"
     ]
    },
    {
     "name": "stderr",
     "output_type": "stream",
     "text": [
      "/Users/danieljthompson/venv/lib/python3.8/site-packages/mne/io/edf/edf.py:1047: DeprecationWarning: The binary mode of fromstring is deprecated, as it behaves surprisingly on unicode inputs. Use frombuffer instead\n",
      "  etmode = np.fromstring(etmode, UINT8).tolist()[0]\n",
      "<ipython-input-16-f416631df55c>:17: RuntimeWarning: Channel names are not unique, found duplicates for: {'EEG'}. Applying running numbers for duplicates.\n",
      "  raw_eeg = mne.io.read_raw_gdf(f,preload=True);\n"
     ]
    },
    {
     "name": "stdout",
     "output_type": "stream",
     "text": [
      "Reading 0 ... 686999  =      0.000 ...  2747.996 secs...\n",
      "Extracting EDF parameters from /Users/danieljthompson/Desktop/BMES 725/BMES725-BCI-Motor-Imagery/BCIC_IV_2a/A01T.gdf...\n",
      "GDF file detected\n",
      "Setting channel info structure...\n",
      "Creating raw.info structure...\n",
      "Reading 0 ... 672527  =      0.000 ...  2690.108 secs...\n"
     ]
    },
    {
     "name": "stderr",
     "output_type": "stream",
     "text": [
      "/Users/danieljthompson/venv/lib/python3.8/site-packages/mne/io/edf/edf.py:1047: DeprecationWarning: The binary mode of fromstring is deprecated, as it behaves surprisingly on unicode inputs. Use frombuffer instead\n",
      "  etmode = np.fromstring(etmode, UINT8).tolist()[0]\n",
      "<ipython-input-16-f416631df55c>:17: RuntimeWarning: Channel names are not unique, found duplicates for: {'EEG'}. Applying running numbers for duplicates.\n",
      "  raw_eeg = mne.io.read_raw_gdf(f,preload=True);\n"
     ]
    },
    {
     "name": "stdout",
     "output_type": "stream",
     "text": [
      "Extracting EDF parameters from /Users/danieljthompson/Desktop/BMES 725/BMES725-BCI-Motor-Imagery/BCIC_IV_2a/A07E.gdf...\n",
      "GDF file detected\n",
      "Setting channel info structure...\n",
      "Creating raw.info structure...\n",
      "Reading 0 ... 673134  =      0.000 ...  2692.536 secs...\n"
     ]
    },
    {
     "name": "stderr",
     "output_type": "stream",
     "text": [
      "/Users/danieljthompson/venv/lib/python3.8/site-packages/mne/io/edf/edf.py:1047: DeprecationWarning: The binary mode of fromstring is deprecated, as it behaves surprisingly on unicode inputs. Use frombuffer instead\n",
      "  etmode = np.fromstring(etmode, UINT8).tolist()[0]\n",
      "<ipython-input-16-f416631df55c>:17: RuntimeWarning: Channel names are not unique, found duplicates for: {'EEG'}. Applying running numbers for duplicates.\n",
      "  raw_eeg = mne.io.read_raw_gdf(f,preload=True);\n"
     ]
    },
    {
     "name": "stdout",
     "output_type": "stream",
     "text": [
      "Extracting EDF parameters from /Users/danieljthompson/Desktop/BMES 725/BMES725-BCI-Motor-Imagery/BCIC_IV_2a/A06T.gdf...\n",
      "GDF file detected\n",
      "Setting channel info structure...\n",
      "Creating raw.info structure...\n",
      "Reading 0 ... 678979  =      0.000 ...  2715.916 secs...\n"
     ]
    },
    {
     "name": "stderr",
     "output_type": "stream",
     "text": [
      "/Users/danieljthompson/venv/lib/python3.8/site-packages/mne/io/edf/edf.py:1047: DeprecationWarning: The binary mode of fromstring is deprecated, as it behaves surprisingly on unicode inputs. Use frombuffer instead\n",
      "  etmode = np.fromstring(etmode, UINT8).tolist()[0]\n",
      "<ipython-input-16-f416631df55c>:17: RuntimeWarning: Channel names are not unique, found duplicates for: {'EEG'}. Applying running numbers for duplicates.\n",
      "  raw_eeg = mne.io.read_raw_gdf(f,preload=True);\n"
     ]
    },
    {
     "name": "stdout",
     "output_type": "stream",
     "text": [
      "Extracting EDF parameters from /Users/danieljthompson/Desktop/BMES 725/BMES725-BCI-Motor-Imagery/BCIC_IV_2a/A07T.gdf...\n",
      "GDF file detected\n",
      "Setting channel info structure...\n",
      "Creating raw.info structure...\n",
      "Reading 0 ... 681070  =      0.000 ...  2724.280 secs...\n"
     ]
    },
    {
     "name": "stderr",
     "output_type": "stream",
     "text": [
      "/Users/danieljthompson/venv/lib/python3.8/site-packages/mne/io/edf/edf.py:1047: DeprecationWarning: The binary mode of fromstring is deprecated, as it behaves surprisingly on unicode inputs. Use frombuffer instead\n",
      "  etmode = np.fromstring(etmode, UINT8).tolist()[0]\n",
      "<ipython-input-16-f416631df55c>:17: RuntimeWarning: Channel names are not unique, found duplicates for: {'EEG'}. Applying running numbers for duplicates.\n",
      "  raw_eeg = mne.io.read_raw_gdf(f,preload=True);\n"
     ]
    },
    {
     "name": "stdout",
     "output_type": "stream",
     "text": [
      "Extracting EDF parameters from /Users/danieljthompson/Desktop/BMES 725/BMES725-BCI-Motor-Imagery/BCIC_IV_2a/A06E.gdf...\n",
      "GDF file detected\n",
      "Setting channel info structure...\n",
      "Creating raw.info structure...\n",
      "Reading 0 ... 666372  =      0.000 ...  2665.488 secs...\n"
     ]
    },
    {
     "name": "stderr",
     "output_type": "stream",
     "text": [
      "/Users/danieljthompson/venv/lib/python3.8/site-packages/mne/io/edf/edf.py:1047: DeprecationWarning: The binary mode of fromstring is deprecated, as it behaves surprisingly on unicode inputs. Use frombuffer instead\n",
      "  etmode = np.fromstring(etmode, UINT8).tolist()[0]\n",
      "<ipython-input-16-f416631df55c>:17: RuntimeWarning: Channel names are not unique, found duplicates for: {'EEG'}. Applying running numbers for duplicates.\n",
      "  raw_eeg = mne.io.read_raw_gdf(f,preload=True);\n"
     ]
    },
    {
     "name": "stdout",
     "output_type": "stream",
     "text": [
      "Extracting EDF parameters from /Users/danieljthompson/Desktop/BMES 725/BMES725-BCI-Motor-Imagery/BCIC_IV_2a/A08T.gdf...\n",
      "GDF file detected\n",
      "Setting channel info structure...\n",
      "Creating raw.info structure...\n",
      "Reading 0 ... 675269  =      0.000 ...  2701.076 secs...\n"
     ]
    },
    {
     "name": "stderr",
     "output_type": "stream",
     "text": [
      "/Users/danieljthompson/venv/lib/python3.8/site-packages/mne/io/edf/edf.py:1047: DeprecationWarning: The binary mode of fromstring is deprecated, as it behaves surprisingly on unicode inputs. Use frombuffer instead\n",
      "  etmode = np.fromstring(etmode, UINT8).tolist()[0]\n",
      "<ipython-input-16-f416631df55c>:17: RuntimeWarning: Channel names are not unique, found duplicates for: {'EEG'}. Applying running numbers for duplicates.\n",
      "  raw_eeg = mne.io.read_raw_gdf(f,preload=True);\n"
     ]
    },
    {
     "name": "stdout",
     "output_type": "stream",
     "text": [
      "Extracting EDF parameters from /Users/danieljthompson/Desktop/BMES 725/BMES725-BCI-Motor-Imagery/BCIC_IV_2a/A05E.gdf...\n",
      "GDF file detected\n",
      "Setting channel info structure...\n",
      "Creating raw.info structure...\n",
      "Reading 0 ... 679862  =      0.000 ...  2719.448 secs...\n"
     ]
    },
    {
     "name": "stderr",
     "output_type": "stream",
     "text": [
      "/Users/danieljthompson/venv/lib/python3.8/site-packages/mne/io/edf/edf.py:1047: DeprecationWarning: The binary mode of fromstring is deprecated, as it behaves surprisingly on unicode inputs. Use frombuffer instead\n",
      "  etmode = np.fromstring(etmode, UINT8).tolist()[0]\n",
      "<ipython-input-16-f416631df55c>:17: RuntimeWarning: Channel names are not unique, found duplicates for: {'EEG'}. Applying running numbers for duplicates.\n",
      "  raw_eeg = mne.io.read_raw_gdf(f,preload=True);\n"
     ]
    },
    {
     "name": "stdout",
     "output_type": "stream",
     "text": [
      "Extracting EDF parameters from /Users/danieljthompson/Desktop/BMES 725/BMES725-BCI-Motor-Imagery/BCIC_IV_2a/A04T.gdf...\n",
      "GDF file detected\n",
      "Setting channel info structure...\n",
      "Creating raw.info structure...\n",
      "Reading 0 ... 600914  =      0.000 ...  2403.656 secs...\n"
     ]
    },
    {
     "name": "stderr",
     "output_type": "stream",
     "text": [
      "/Users/danieljthompson/venv/lib/python3.8/site-packages/mne/io/edf/edf.py:1047: DeprecationWarning: The binary mode of fromstring is deprecated, as it behaves surprisingly on unicode inputs. Use frombuffer instead\n",
      "  etmode = np.fromstring(etmode, UINT8).tolist()[0]\n",
      "<ipython-input-16-f416631df55c>:17: RuntimeWarning: Channel names are not unique, found duplicates for: {'EEG'}. Applying running numbers for duplicates.\n",
      "  raw_eeg = mne.io.read_raw_gdf(f,preload=True);\n"
     ]
    },
    {
     "name": "stdout",
     "output_type": "stream",
     "text": [
      "Extracting EDF parameters from /Users/danieljthompson/Desktop/BMES 725/BMES725-BCI-Motor-Imagery/BCIC_IV_2a/A09E.gdf...\n",
      "GDF file detected\n",
      "Setting channel info structure...\n",
      "Creating raw.info structure...\n",
      "Reading 0 ... 675097  =      0.000 ...  2700.388 secs...\n"
     ]
    },
    {
     "name": "stderr",
     "output_type": "stream",
     "text": [
      "/Users/danieljthompson/venv/lib/python3.8/site-packages/mne/io/edf/edf.py:1047: DeprecationWarning: The binary mode of fromstring is deprecated, as it behaves surprisingly on unicode inputs. Use frombuffer instead\n",
      "  etmode = np.fromstring(etmode, UINT8).tolist()[0]\n",
      "<ipython-input-16-f416631df55c>:17: RuntimeWarning: Channel names are not unique, found duplicates for: {'EEG'}. Applying running numbers for duplicates.\n",
      "  raw_eeg = mne.io.read_raw_gdf(f,preload=True);\n"
     ]
    },
    {
     "name": "stdout",
     "output_type": "stream",
     "text": [
      "Extracting EDF parameters from /Users/danieljthompson/Desktop/BMES 725/BMES725-BCI-Motor-Imagery/BCIC_IV_2a/A08E.gdf...\n",
      "GDF file detected\n",
      "Setting channel info structure...\n",
      "Creating raw.info structure...\n",
      "Reading 0 ... 687791  =      0.000 ...  2751.164 secs...\n"
     ]
    },
    {
     "name": "stderr",
     "output_type": "stream",
     "text": [
      "/Users/danieljthompson/venv/lib/python3.8/site-packages/mne/io/edf/edf.py:1047: DeprecationWarning: The binary mode of fromstring is deprecated, as it behaves surprisingly on unicode inputs. Use frombuffer instead\n",
      "  etmode = np.fromstring(etmode, UINT8).tolist()[0]\n",
      "<ipython-input-16-f416631df55c>:17: RuntimeWarning: Channel names are not unique, found duplicates for: {'EEG'}. Applying running numbers for duplicates.\n",
      "  raw_eeg = mne.io.read_raw_gdf(f,preload=True);\n"
     ]
    },
    {
     "name": "stdout",
     "output_type": "stream",
     "text": [
      "Extracting EDF parameters from /Users/danieljthompson/Desktop/BMES 725/BMES725-BCI-Motor-Imagery/BCIC_IV_2a/A05T.gdf...\n",
      "GDF file detected\n",
      "Setting channel info structure...\n",
      "Creating raw.info structure...\n",
      "Reading 0 ... 686119  =      0.000 ...  2744.476 secs...\n"
     ]
    },
    {
     "name": "stderr",
     "output_type": "stream",
     "text": [
      "/Users/danieljthompson/venv/lib/python3.8/site-packages/mne/io/edf/edf.py:1047: DeprecationWarning: The binary mode of fromstring is deprecated, as it behaves surprisingly on unicode inputs. Use frombuffer instead\n",
      "  etmode = np.fromstring(etmode, UINT8).tolist()[0]\n",
      "<ipython-input-16-f416631df55c>:17: RuntimeWarning: Channel names are not unique, found duplicates for: {'EEG'}. Applying running numbers for duplicates.\n",
      "  raw_eeg = mne.io.read_raw_gdf(f,preload=True);\n"
     ]
    },
    {
     "name": "stdout",
     "output_type": "stream",
     "text": [
      "Extracting EDF parameters from /Users/danieljthompson/Desktop/BMES 725/BMES725-BCI-Motor-Imagery/BCIC_IV_2a/A04E.gdf...\n",
      "GDF file detected\n",
      "Setting channel info structure...\n",
      "Creating raw.info structure...\n",
      "Reading 0 ... 660046  =      0.000 ...  2640.184 secs...\n"
     ]
    },
    {
     "name": "stderr",
     "output_type": "stream",
     "text": [
      "/Users/danieljthompson/venv/lib/python3.8/site-packages/mne/io/edf/edf.py:1047: DeprecationWarning: The binary mode of fromstring is deprecated, as it behaves surprisingly on unicode inputs. Use frombuffer instead\n",
      "  etmode = np.fromstring(etmode, UINT8).tolist()[0]\n",
      "<ipython-input-16-f416631df55c>:17: RuntimeWarning: Channel names are not unique, found duplicates for: {'EEG'}. Applying running numbers for duplicates.\n",
      "  raw_eeg = mne.io.read_raw_gdf(f,preload=True);\n"
     ]
    },
    {
     "name": "stdout",
     "output_type": "stream",
     "text": [
      "Extracting EDF parameters from /Users/danieljthompson/Desktop/BMES 725/BMES725-BCI-Motor-Imagery/BCIC_IV_2a/A09T.gdf...\n",
      "GDF file detected\n",
      "Setting channel info structure...\n",
      "Creating raw.info structure...\n",
      "Reading 0 ... 673327  =      0.000 ...  2693.308 secs...\n"
     ]
    },
    {
     "name": "stderr",
     "output_type": "stream",
     "text": [
      "/Users/danieljthompson/venv/lib/python3.8/site-packages/mne/io/edf/edf.py:1047: DeprecationWarning: The binary mode of fromstring is deprecated, as it behaves surprisingly on unicode inputs. Use frombuffer instead\n",
      "  etmode = np.fromstring(etmode, UINT8).tolist()[0]\n",
      "<ipython-input-16-f416631df55c>:17: RuntimeWarning: Channel names are not unique, found duplicates for: {'EEG'}. Applying running numbers for duplicates.\n",
      "  raw_eeg = mne.io.read_raw_gdf(f,preload=True);\n"
     ]
    },
    {
     "name": "stdout",
     "output_type": "stream",
     "text": [
      "Extracting EDF parameters from /Users/danieljthompson/Desktop/BMES 725/BMES725-BCI-Motor-Imagery/BCIC_IV_2a/A02T.gdf...\n",
      "GDF file detected\n",
      "Setting channel info structure...\n",
      "Creating raw.info structure...\n",
      "Reading 0 ... 677168  =      0.000 ...  2708.672 secs...\n"
     ]
    },
    {
     "name": "stderr",
     "output_type": "stream",
     "text": [
      "/Users/danieljthompson/venv/lib/python3.8/site-packages/mne/io/edf/edf.py:1047: DeprecationWarning: The binary mode of fromstring is deprecated, as it behaves surprisingly on unicode inputs. Use frombuffer instead\n",
      "  etmode = np.fromstring(etmode, UINT8).tolist()[0]\n",
      "<ipython-input-16-f416631df55c>:17: RuntimeWarning: Channel names are not unique, found duplicates for: {'EEG'}. Applying running numbers for duplicates.\n",
      "  raw_eeg = mne.io.read_raw_gdf(f,preload=True);\n"
     ]
    },
    {
     "name": "stdout",
     "output_type": "stream",
     "text": [
      "Extracting EDF parameters from /Users/danieljthompson/Desktop/BMES 725/BMES725-BCI-Motor-Imagery/BCIC_IV_2a/A03E.gdf...\n",
      "GDF file detected\n",
      "Setting channel info structure...\n",
      "Creating raw.info structure...\n",
      "Reading 0 ... 648774  =      0.000 ...  2595.096 secs...\n"
     ]
    },
    {
     "name": "stderr",
     "output_type": "stream",
     "text": [
      "/Users/danieljthompson/venv/lib/python3.8/site-packages/mne/io/edf/edf.py:1047: DeprecationWarning: The binary mode of fromstring is deprecated, as it behaves surprisingly on unicode inputs. Use frombuffer instead\n",
      "  etmode = np.fromstring(etmode, UINT8).tolist()[0]\n",
      "<ipython-input-16-f416631df55c>:17: RuntimeWarning: Channel names are not unique, found duplicates for: {'EEG'}. Applying running numbers for duplicates.\n",
      "  raw_eeg = mne.io.read_raw_gdf(f,preload=True);\n"
     ]
    },
    {
     "name": "stdout",
     "output_type": "stream",
     "text": [
      "Extracting EDF parameters from /Users/danieljthompson/Desktop/BMES 725/BMES725-BCI-Motor-Imagery/BCIC_IV_2a/A02E.gdf...\n",
      "GDF file detected\n",
      "Setting channel info structure...\n",
      "Creating raw.info structure...\n",
      "Reading 0 ... 662665  =      0.000 ...  2650.660 secs...\n"
     ]
    },
    {
     "name": "stderr",
     "output_type": "stream",
     "text": [
      "/Users/danieljthompson/venv/lib/python3.8/site-packages/mne/io/edf/edf.py:1047: DeprecationWarning: The binary mode of fromstring is deprecated, as it behaves surprisingly on unicode inputs. Use frombuffer instead\n",
      "  etmode = np.fromstring(etmode, UINT8).tolist()[0]\n",
      "<ipython-input-16-f416631df55c>:17: RuntimeWarning: Channel names are not unique, found duplicates for: {'EEG'}. Applying running numbers for duplicates.\n",
      "  raw_eeg = mne.io.read_raw_gdf(f,preload=True);\n"
     ]
    },
    {
     "name": "stdout",
     "output_type": "stream",
     "text": [
      "Extracting EDF parameters from /Users/danieljthompson/Desktop/BMES 725/BMES725-BCI-Motor-Imagery/BCIC_IV_2a/A03T.gdf...\n",
      "GDF file detected\n",
      "Setting channel info structure...\n",
      "Creating raw.info structure...\n",
      "Reading 0 ... 660529  =      0.000 ...  2642.116 secs...\n"
     ]
    },
    {
     "name": "stderr",
     "output_type": "stream",
     "text": [
      "/Users/danieljthompson/venv/lib/python3.8/site-packages/mne/io/edf/edf.py:1047: DeprecationWarning: The binary mode of fromstring is deprecated, as it behaves surprisingly on unicode inputs. Use frombuffer instead\n",
      "  etmode = np.fromstring(etmode, UINT8).tolist()[0]\n",
      "<ipython-input-16-f416631df55c>:17: RuntimeWarning: Channel names are not unique, found duplicates for: {'EEG'}. Applying running numbers for duplicates.\n",
      "  raw_eeg = mne.io.read_raw_gdf(f,preload=True);\n"
     ]
    }
   ],
   "source": [
    "cwd = os.getcwd()\n",
    "mypath = os.path.join(cwd,'BCIC_IV_2a')\n",
    "\n",
    "\n",
    "\n",
    "\n",
    "onlyfiles = [f for f in listdir(mypath) if isfile(join(mypath, f))]\n",
    "\n",
    "\n",
    "\n",
    "files = []\n",
    "\n",
    "for f in onlyfiles:\n",
    "    files.append(mypath+'/'+f)\n",
    "    \n",
    "    \n",
    "eeg = []\n",
    "for f in files:\n",
    "    raw_eeg = mne.io.read_raw_gdf(f,preload=True);\n",
    "    eeg.append(raw_eeg)"
   ]
  },
  {
   "cell_type": "markdown",
   "id": "median-junction",
   "metadata": {},
   "source": [
    "# All Files"
   ]
  },
  {
   "cell_type": "code",
   "execution_count": 20,
   "id": "liked-pharmacy",
   "metadata": {
    "scrolled": true
   },
   "outputs": [
    {
     "name": "stdout",
     "output_type": "stream",
     "text": [
      "Filtering a subset of channels. The highpass and lowpass values in the measurement info will not be updated.\n",
      "Filtering raw data in 1 contiguous segment\n",
      "Setting up band-pass filter from 4 - 38 Hz\n",
      "\n",
      "IIR filter parameters\n",
      "---------------------\n",
      "Butterworth bandpass zero-phase (two-pass forward and reverse) non-causal filter:\n",
      "- Filter order 12 (effective, after forward-backward)\n",
      "- Cutoffs at 4.00, 38.00 Hz: -6.02, -6.02 dB\n",
      "\n",
      "Used Annotations descriptions: ['1023', '1072', '276', '277', '32766', '768', '783']\n",
      "Filtering a subset of channels. The highpass and lowpass values in the measurement info will not be updated.\n",
      "Filtering raw data in 1 contiguous segment\n",
      "Setting up band-pass filter from 4 - 38 Hz\n",
      "\n",
      "IIR filter parameters\n",
      "---------------------\n",
      "Butterworth bandpass zero-phase (two-pass forward and reverse) non-causal filter:\n",
      "- Filter order 12 (effective, after forward-backward)\n",
      "- Cutoffs at 4.00, 38.00 Hz: -6.02, -6.02 dB\n",
      "\n",
      "Used Annotations descriptions: ['1023', '1072', '276', '277', '32766', '768', '769', '770', '771', '772']\n",
      "Filtering a subset of channels. The highpass and lowpass values in the measurement info will not be updated.\n",
      "Filtering raw data in 1 contiguous segment\n",
      "Setting up band-pass filter from 4 - 38 Hz\n",
      "\n",
      "IIR filter parameters\n",
      "---------------------\n",
      "Butterworth bandpass zero-phase (two-pass forward and reverse) non-causal filter:\n",
      "- Filter order 12 (effective, after forward-backward)\n",
      "- Cutoffs at 4.00, 38.00 Hz: -6.02, -6.02 dB\n",
      "\n",
      "Used Annotations descriptions: ['1023', '1072', '276', '277', '32766', '768', '783']\n",
      "Filtering a subset of channels. The highpass and lowpass values in the measurement info will not be updated.\n",
      "Filtering raw data in 1 contiguous segment\n",
      "Setting up band-pass filter from 4 - 38 Hz\n",
      "\n",
      "IIR filter parameters\n",
      "---------------------\n",
      "Butterworth bandpass zero-phase (two-pass forward and reverse) non-causal filter:\n",
      "- Filter order 12 (effective, after forward-backward)\n",
      "- Cutoffs at 4.00, 38.00 Hz: -6.02, -6.02 dB\n",
      "\n",
      "Used Annotations descriptions: ['1023', '1072', '276', '277', '32766', '768', '769', '770', '771', '772']\n",
      "Filtering a subset of channels. The highpass and lowpass values in the measurement info will not be updated.\n",
      "Filtering raw data in 1 contiguous segment\n",
      "Setting up band-pass filter from 4 - 38 Hz\n",
      "\n",
      "IIR filter parameters\n",
      "---------------------\n",
      "Butterworth bandpass zero-phase (two-pass forward and reverse) non-causal filter:\n",
      "- Filter order 12 (effective, after forward-backward)\n",
      "- Cutoffs at 4.00, 38.00 Hz: -6.02, -6.02 dB\n",
      "\n",
      "Used Annotations descriptions: ['1023', '1072', '276', '277', '32766', '768', '769', '770', '771', '772']\n",
      "Filtering a subset of channels. The highpass and lowpass values in the measurement info will not be updated.\n",
      "Filtering raw data in 1 contiguous segment\n",
      "Setting up band-pass filter from 4 - 38 Hz\n",
      "\n",
      "IIR filter parameters\n",
      "---------------------\n",
      "Butterworth bandpass zero-phase (two-pass forward and reverse) non-causal filter:\n",
      "- Filter order 12 (effective, after forward-backward)\n",
      "- Cutoffs at 4.00, 38.00 Hz: -6.02, -6.02 dB\n",
      "\n",
      "Used Annotations descriptions: ['1023', '1072', '276', '277', '32766', '768', '783']\n",
      "Filtering a subset of channels. The highpass and lowpass values in the measurement info will not be updated.\n",
      "Filtering raw data in 1 contiguous segment\n",
      "Setting up band-pass filter from 4 - 38 Hz\n",
      "\n",
      "IIR filter parameters\n",
      "---------------------\n",
      "Butterworth bandpass zero-phase (two-pass forward and reverse) non-causal filter:\n",
      "- Filter order 12 (effective, after forward-backward)\n",
      "- Cutoffs at 4.00, 38.00 Hz: -6.02, -6.02 dB\n",
      "\n",
      "Used Annotations descriptions: ['1023', '1072', '276', '277', '32766', '768', '769', '770', '771', '772']\n",
      "Filtering a subset of channels. The highpass and lowpass values in the measurement info will not be updated.\n",
      "Filtering raw data in 1 contiguous segment\n",
      "Setting up band-pass filter from 4 - 38 Hz\n",
      "\n",
      "IIR filter parameters\n",
      "---------------------\n",
      "Butterworth bandpass zero-phase (two-pass forward and reverse) non-causal filter:\n",
      "- Filter order 12 (effective, after forward-backward)\n",
      "- Cutoffs at 4.00, 38.00 Hz: -6.02, -6.02 dB\n",
      "\n",
      "Used Annotations descriptions: ['1023', '1072', '276', '277', '32766', '768', '783']\n",
      "Filtering a subset of channels. The highpass and lowpass values in the measurement info will not be updated.\n",
      "Filtering raw data in 1 contiguous segment\n",
      "Setting up band-pass filter from 4 - 38 Hz\n",
      "\n",
      "IIR filter parameters\n",
      "---------------------\n",
      "Butterworth bandpass zero-phase (two-pass forward and reverse) non-causal filter:\n",
      "- Filter order 12 (effective, after forward-backward)\n",
      "- Cutoffs at 4.00, 38.00 Hz: -6.02, -6.02 dB\n",
      "\n",
      "Used Annotations descriptions: ['1023', '1072', '32766', '768', '769', '770', '771', '772']\n",
      "Filtering a subset of channels. The highpass and lowpass values in the measurement info will not be updated.\n",
      "Filtering raw data in 1 contiguous segment\n",
      "Setting up band-pass filter from 4 - 38 Hz\n",
      "\n",
      "IIR filter parameters\n",
      "---------------------\n",
      "Butterworth bandpass zero-phase (two-pass forward and reverse) non-causal filter:\n",
      "- Filter order 12 (effective, after forward-backward)\n",
      "- Cutoffs at 4.00, 38.00 Hz: -6.02, -6.02 dB\n",
      "\n",
      "Used Annotations descriptions: ['1023', '1072', '276', '277', '32766', '768', '783']\n",
      "Filtering a subset of channels. The highpass and lowpass values in the measurement info will not be updated.\n",
      "Filtering raw data in 1 contiguous segment\n",
      "Setting up band-pass filter from 4 - 38 Hz\n",
      "\n",
      "IIR filter parameters\n",
      "---------------------\n",
      "Butterworth bandpass zero-phase (two-pass forward and reverse) non-causal filter:\n",
      "- Filter order 12 (effective, after forward-backward)\n",
      "- Cutoffs at 4.00, 38.00 Hz: -6.02, -6.02 dB\n",
      "\n",
      "Used Annotations descriptions: ['1023', '1072', '276', '277', '32766', '768', '783']\n",
      "Filtering a subset of channels. The highpass and lowpass values in the measurement info will not be updated.\n",
      "Filtering raw data in 1 contiguous segment\n",
      "Setting up band-pass filter from 4 - 38 Hz\n",
      "\n",
      "IIR filter parameters\n",
      "---------------------\n",
      "Butterworth bandpass zero-phase (two-pass forward and reverse) non-causal filter:\n",
      "- Filter order 12 (effective, after forward-backward)\n",
      "- Cutoffs at 4.00, 38.00 Hz: -6.02, -6.02 dB\n",
      "\n",
      "Used Annotations descriptions: ['1023', '1072', '276', '277', '32766', '768', '769', '770', '771', '772']\n",
      "Filtering a subset of channels. The highpass and lowpass values in the measurement info will not be updated.\n",
      "Filtering raw data in 1 contiguous segment\n",
      "Setting up band-pass filter from 4 - 38 Hz\n",
      "\n",
      "IIR filter parameters\n",
      "---------------------\n",
      "Butterworth bandpass zero-phase (two-pass forward and reverse) non-causal filter:\n",
      "- Filter order 12 (effective, after forward-backward)\n",
      "- Cutoffs at 4.00, 38.00 Hz: -6.02, -6.02 dB\n",
      "\n",
      "Used Annotations descriptions: ['1023', '1072', '276', '277', '32766', '768', '783']\n",
      "Filtering a subset of channels. The highpass and lowpass values in the measurement info will not be updated.\n",
      "Filtering raw data in 1 contiguous segment\n",
      "Setting up band-pass filter from 4 - 38 Hz\n",
      "\n",
      "IIR filter parameters\n",
      "---------------------\n",
      "Butterworth bandpass zero-phase (two-pass forward and reverse) non-causal filter:\n",
      "- Filter order 12 (effective, after forward-backward)\n",
      "- Cutoffs at 4.00, 38.00 Hz: -6.02, -6.02 dB\n",
      "\n",
      "Used Annotations descriptions: ['1023', '1072', '276', '277', '32766', '768', '769', '770', '771', '772']\n",
      "Filtering a subset of channels. The highpass and lowpass values in the measurement info will not be updated.\n",
      "Filtering raw data in 1 contiguous segment\n",
      "Setting up band-pass filter from 4 - 38 Hz\n",
      "\n",
      "IIR filter parameters\n",
      "---------------------\n",
      "Butterworth bandpass zero-phase (two-pass forward and reverse) non-causal filter:\n",
      "- Filter order 12 (effective, after forward-backward)\n",
      "- Cutoffs at 4.00, 38.00 Hz: -6.02, -6.02 dB\n",
      "\n",
      "Used Annotations descriptions: ['1023', '1072', '276', '277', '32766', '768', '769', '770', '771', '772']\n",
      "Filtering a subset of channels. The highpass and lowpass values in the measurement info will not be updated.\n",
      "Filtering raw data in 1 contiguous segment\n",
      "Setting up band-pass filter from 4 - 38 Hz\n",
      "\n",
      "IIR filter parameters\n",
      "---------------------\n",
      "Butterworth bandpass zero-phase (two-pass forward and reverse) non-causal filter:\n",
      "- Filter order 12 (effective, after forward-backward)\n",
      "- Cutoffs at 4.00, 38.00 Hz: -6.02, -6.02 dB\n",
      "\n",
      "Used Annotations descriptions: ['1023', '1072', '276', '277', '32766', '768', '783']\n"
     ]
    },
    {
     "name": "stdout",
     "output_type": "stream",
     "text": [
      "Filtering a subset of channels. The highpass and lowpass values in the measurement info will not be updated.\n",
      "Filtering raw data in 1 contiguous segment\n",
      "Setting up band-pass filter from 4 - 38 Hz\n",
      "\n",
      "IIR filter parameters\n",
      "---------------------\n",
      "Butterworth bandpass zero-phase (two-pass forward and reverse) non-causal filter:\n",
      "- Filter order 12 (effective, after forward-backward)\n",
      "- Cutoffs at 4.00, 38.00 Hz: -6.02, -6.02 dB\n",
      "\n",
      "Used Annotations descriptions: ['1023', '1072', '276', '277', '32766', '768', '783']\n",
      "Filtering a subset of channels. The highpass and lowpass values in the measurement info will not be updated.\n",
      "Filtering raw data in 1 contiguous segment\n",
      "Setting up band-pass filter from 4 - 38 Hz\n",
      "\n",
      "IIR filter parameters\n",
      "---------------------\n",
      "Butterworth bandpass zero-phase (two-pass forward and reverse) non-causal filter:\n",
      "- Filter order 12 (effective, after forward-backward)\n",
      "- Cutoffs at 4.00, 38.00 Hz: -6.02, -6.02 dB\n",
      "\n",
      "Used Annotations descriptions: ['1023', '1072', '276', '277', '32766', '768', '769', '770', '771', '772']\n"
     ]
    }
   ],
   "source": [
    "iir_params = dict(order=3, ftype='butter', output='sos')\n",
    "event_id = dict(mv_l=1, mv_r=2, foot=3, tongue=4)\n",
    "tmin, tmax = -0., 1.\n",
    "kernels, chans, samples = 1, 22, 251\n",
    "count=0\n",
    "\n",
    "\n",
    "X_train = None\n",
    "Y_train = None\n",
    "\n",
    "X_val = None\n",
    "Y_val = None\n",
    "\n",
    "for i in eeg:\n",
    "    i.info['bads'] = ['EOG-left','EOG-central','EOG-right']  # set bad channels\n",
    "    picks = mne.pick_types(i.info, meg=False, eeg=True, stim=False, eog=False,\n",
    "                       exclude='bads')\n",
    "    i.filter(4, 38, picks=picks,iir_params=iir_params,method='iir')\n",
    "    events = mne.events_from_annotations(i)\n",
    "    \n",
    "    epochs = mne.Epochs(i, events[0], event_id, tmin, tmax, proj=False,\n",
    "                    picks=picks, baseline=None, preload=True, verbose=False,event_repeated='drop')\n",
    "    labels = epochs.events[:, -1]\n",
    "    \n",
    "    X = epochs.get_data()\n",
    "    Y=labels\n",
    "    \n",
    "    \n",
    "    \n",
    "    \n",
    "    \n",
    "    \n",
    "    if count >8:\n",
    "        \n",
    "        X = X.reshape(X.shape[0], chans, samples, kernels)\n",
    "        Y = np_utils.to_categorical(Y-1)\n",
    "        \n",
    "        if X_train is None:\n",
    "            X_train = X\n",
    "            Y_train = Y\n",
    "        \n",
    "        else:\n",
    "            X_train = np.concatenate([X_train,X])\n",
    "            Y_train = np.concatenate([Y_train,Y])\n",
    "    else:\n",
    "        \n",
    "        X = X.reshape(X.shape[0], chans, samples, kernels)\n",
    "        Y = np_utils.to_categorical(Y-1,num_classes=4)\n",
    "        \n",
    "        if X_val is None:\n",
    "            X_val = X\n",
    "            Y_val = Y\n",
    "        \n",
    "        else:\n",
    "            X_val = np.concatenate([X_val,X])\n",
    "            Y_val = np.concatenate([Y_val,Y])\n",
    "    \n",
    "    count += 1"
   ]
  },
  {
   "cell_type": "markdown",
   "id": "packed-tissue",
   "metadata": {},
   "source": [
    "# Create Model"
   ]
  },
  {
   "cell_type": "markdown",
   "id": "finished-airfare",
   "metadata": {},
   "source": [
    "### EEGNet"
   ]
  },
  {
   "cell_type": "code",
   "execution_count": 29,
   "id": "latter-birth",
   "metadata": {},
   "outputs": [
    {
     "name": "stdout",
     "output_type": "stream",
     "text": [
      "Model: \"model_1\"\n",
      "_________________________________________________________________\n",
      "Layer (type)                 Output Shape              Param #   \n",
      "=================================================================\n",
      "input_2 (InputLayer)         [(None, 22, 251, 1)]      0         \n",
      "_________________________________________________________________\n",
      "conv2d_1 (Conv2D)            (None, 22, 251, 8)        512       \n",
      "_________________________________________________________________\n",
      "batch_normalization_3 (Batch (None, 22, 251, 8)        32        \n",
      "_________________________________________________________________\n",
      "depthwise_conv2d_1 (Depthwis (None, 1, 251, 16)        352       \n",
      "_________________________________________________________________\n",
      "batch_normalization_4 (Batch (None, 1, 251, 16)        64        \n",
      "_________________________________________________________________\n",
      "activation_2 (Activation)    (None, 1, 251, 16)        0         \n",
      "_________________________________________________________________\n",
      "average_pooling2d_2 (Average (None, 1, 62, 16)         0         \n",
      "_________________________________________________________________\n",
      "dropout_2 (Dropout)          (None, 1, 62, 16)         0         \n",
      "_________________________________________________________________\n",
      "separable_conv2d_1 (Separabl (None, 1, 62, 16)         512       \n",
      "_________________________________________________________________\n",
      "batch_normalization_5 (Batch (None, 1, 62, 16)         64        \n",
      "_________________________________________________________________\n",
      "activation_3 (Activation)    (None, 1, 62, 16)         0         \n",
      "_________________________________________________________________\n",
      "average_pooling2d_3 (Average (None, 1, 7, 16)          0         \n",
      "_________________________________________________________________\n",
      "dropout_3 (Dropout)          (None, 1, 7, 16)          0         \n",
      "_________________________________________________________________\n",
      "flatten (Flatten)            (None, 112)               0         \n",
      "_________________________________________________________________\n",
      "dense (Dense)                (None, 4)                 452       \n",
      "_________________________________________________________________\n",
      "softmax (Activation)         (None, 4)                 0         \n",
      "=================================================================\n",
      "Total params: 1,988\n",
      "Trainable params: 1,908\n",
      "Non-trainable params: 80\n",
      "_________________________________________________________________\n",
      "None\n"
     ]
    }
   ],
   "source": [
    "model = EEGNet(nb_classes = 4, Chans = chans, Samples = samples)\n",
    "\n",
    "# compile the model and set the optimizers\n",
    "model.compile(loss='categorical_crossentropy', optimizer='adam', \n",
    "              metrics = ['accuracy'])\n",
    "\n",
    "# count number of parameters in the model\n",
    "numParams    = model.count_params()  \n",
    "\n",
    "print(model.summary())"
   ]
  },
  {
   "cell_type": "markdown",
   "id": "amazing-ability",
   "metadata": {},
   "source": [
    "### DeepConvNet"
   ]
  },
  {
   "cell_type": "code",
   "execution_count": 32,
   "id": "japanese-degree",
   "metadata": {},
   "outputs": [
    {
     "name": "stdout",
     "output_type": "stream",
     "text": [
      "Model: \"model_2\"\n",
      "_________________________________________________________________\n",
      "Layer (type)                 Output Shape              Param #   \n",
      "=================================================================\n",
      "input_3 (InputLayer)         [(None, 22, 251, 1)]      0         \n",
      "_________________________________________________________________\n",
      "conv2d_2 (Conv2D)            (None, 22, 247, 25)       150       \n",
      "_________________________________________________________________\n",
      "conv2d_3 (Conv2D)            (None, 1, 247, 25)        13775     \n",
      "_________________________________________________________________\n",
      "batch_normalization_6 (Batch (None, 1, 247, 25)        100       \n",
      "_________________________________________________________________\n",
      "activation_4 (Activation)    (None, 1, 247, 25)        0         \n",
      "_________________________________________________________________\n",
      "max_pooling2d (MaxPooling2D) (None, 1, 123, 25)        0         \n",
      "_________________________________________________________________\n",
      "dropout_4 (Dropout)          (None, 1, 123, 25)        0         \n",
      "_________________________________________________________________\n",
      "conv2d_4 (Conv2D)            (None, 1, 119, 50)        6300      \n",
      "_________________________________________________________________\n",
      "batch_normalization_7 (Batch (None, 1, 119, 50)        200       \n",
      "_________________________________________________________________\n",
      "activation_5 (Activation)    (None, 1, 119, 50)        0         \n",
      "_________________________________________________________________\n",
      "max_pooling2d_1 (MaxPooling2 (None, 1, 59, 50)         0         \n",
      "_________________________________________________________________\n",
      "dropout_5 (Dropout)          (None, 1, 59, 50)         0         \n",
      "_________________________________________________________________\n",
      "conv2d_5 (Conv2D)            (None, 1, 55, 100)        25100     \n",
      "_________________________________________________________________\n",
      "batch_normalization_8 (Batch (None, 1, 55, 100)        400       \n",
      "_________________________________________________________________\n",
      "activation_6 (Activation)    (None, 1, 55, 100)        0         \n",
      "_________________________________________________________________\n",
      "max_pooling2d_2 (MaxPooling2 (None, 1, 27, 100)        0         \n",
      "_________________________________________________________________\n",
      "dropout_6 (Dropout)          (None, 1, 27, 100)        0         \n",
      "_________________________________________________________________\n",
      "conv2d_6 (Conv2D)            (None, 1, 23, 200)        100200    \n",
      "_________________________________________________________________\n",
      "batch_normalization_9 (Batch (None, 1, 23, 200)        800       \n",
      "_________________________________________________________________\n",
      "activation_7 (Activation)    (None, 1, 23, 200)        0         \n",
      "_________________________________________________________________\n",
      "max_pooling2d_3 (MaxPooling2 (None, 1, 11, 200)        0         \n",
      "_________________________________________________________________\n",
      "dropout_7 (Dropout)          (None, 1, 11, 200)        0         \n",
      "_________________________________________________________________\n",
      "flatten (Flatten)            (None, 2200)              0         \n",
      "_________________________________________________________________\n",
      "dense (Dense)                (None, 4)                 8804      \n",
      "_________________________________________________________________\n",
      "activation_8 (Activation)    (None, 4)                 0         \n",
      "=================================================================\n",
      "Total params: 155,829\n",
      "Trainable params: 155,079\n",
      "Non-trainable params: 750\n",
      "_________________________________________________________________\n",
      "None\n"
     ]
    }
   ],
   "source": [
    "model2 = DeepConvNet(nb_classes = 4, Chans = chans, Samples = samples)\n",
    "\n",
    "# compile the model and set the optimizers\n",
    "model2.compile(loss='categorical_crossentropy', optimizer='adam', \n",
    "              metrics = ['accuracy'])\n",
    "\n",
    "# count number of parameters in the model\n",
    "numParams    = model2.count_params()  \n",
    "\n",
    "print(model2.summary())"
   ]
  },
  {
   "cell_type": "markdown",
   "id": "bizarre-subscriber",
   "metadata": {},
   "source": [
    "### ShallowConvNet"
   ]
  },
  {
   "cell_type": "code",
   "execution_count": 33,
   "id": "binary-secondary",
   "metadata": {},
   "outputs": [
    {
     "name": "stdout",
     "output_type": "stream",
     "text": [
      "Model: \"model_3\"\n",
      "_________________________________________________________________\n",
      "Layer (type)                 Output Shape              Param #   \n",
      "=================================================================\n",
      "input_4 (InputLayer)         [(None, 22, 251, 1)]      0         \n",
      "_________________________________________________________________\n",
      "conv2d_7 (Conv2D)            (None, 22, 247, 25)       150       \n",
      "_________________________________________________________________\n",
      "conv2d_8 (Conv2D)            (None, 1, 247, 25)        13775     \n",
      "_________________________________________________________________\n",
      "batch_normalization_10 (Batc (None, 1, 247, 25)        100       \n",
      "_________________________________________________________________\n",
      "activation_9 (Activation)    (None, 1, 247, 25)        0         \n",
      "_________________________________________________________________\n",
      "max_pooling2d_4 (MaxPooling2 (None, 1, 123, 25)        0         \n",
      "_________________________________________________________________\n",
      "dropout_8 (Dropout)          (None, 1, 123, 25)        0         \n",
      "_________________________________________________________________\n",
      "conv2d_9 (Conv2D)            (None, 1, 119, 50)        6300      \n",
      "_________________________________________________________________\n",
      "batch_normalization_11 (Batc (None, 1, 119, 50)        200       \n",
      "_________________________________________________________________\n",
      "activation_10 (Activation)   (None, 1, 119, 50)        0         \n",
      "_________________________________________________________________\n",
      "max_pooling2d_5 (MaxPooling2 (None, 1, 59, 50)         0         \n",
      "_________________________________________________________________\n",
      "dropout_9 (Dropout)          (None, 1, 59, 50)         0         \n",
      "_________________________________________________________________\n",
      "conv2d_10 (Conv2D)           (None, 1, 55, 100)        25100     \n",
      "_________________________________________________________________\n",
      "batch_normalization_12 (Batc (None, 1, 55, 100)        400       \n",
      "_________________________________________________________________\n",
      "activation_11 (Activation)   (None, 1, 55, 100)        0         \n",
      "_________________________________________________________________\n",
      "max_pooling2d_6 (MaxPooling2 (None, 1, 27, 100)        0         \n",
      "_________________________________________________________________\n",
      "dropout_10 (Dropout)         (None, 1, 27, 100)        0         \n",
      "_________________________________________________________________\n",
      "conv2d_11 (Conv2D)           (None, 1, 23, 200)        100200    \n",
      "_________________________________________________________________\n",
      "batch_normalization_13 (Batc (None, 1, 23, 200)        800       \n",
      "_________________________________________________________________\n",
      "activation_12 (Activation)   (None, 1, 23, 200)        0         \n",
      "_________________________________________________________________\n",
      "max_pooling2d_7 (MaxPooling2 (None, 1, 11, 200)        0         \n",
      "_________________________________________________________________\n",
      "dropout_11 (Dropout)         (None, 1, 11, 200)        0         \n",
      "_________________________________________________________________\n",
      "flatten_1 (Flatten)          (None, 2200)              0         \n",
      "_________________________________________________________________\n",
      "dense_1 (Dense)              (None, 4)                 8804      \n",
      "_________________________________________________________________\n",
      "activation_13 (Activation)   (None, 4)                 0         \n",
      "=================================================================\n",
      "Total params: 155,829\n",
      "Trainable params: 155,079\n",
      "Non-trainable params: 750\n",
      "_________________________________________________________________\n",
      "None\n"
     ]
    }
   ],
   "source": [
    "model3 = DeepConvNet(nb_classes = 4, Chans = chans, Samples = samples)\n",
    "\n",
    "# compile the model and set the optimizers\n",
    "model3.compile(loss='categorical_crossentropy', optimizer='adam', \n",
    "              metrics = ['accuracy'])\n",
    "\n",
    "# count number of parameters in the model\n",
    "numParams    = model3.count_params()  \n",
    "\n",
    "print(model3.summary())"
   ]
  },
  {
   "cell_type": "markdown",
   "id": "stupid-neighbor",
   "metadata": {},
   "source": [
    "# Train Model"
   ]
  },
  {
   "cell_type": "markdown",
   "id": "alone-paragraph",
   "metadata": {},
   "source": [
    "### EEGNet"
   ]
  },
  {
   "cell_type": "code",
   "execution_count": 27,
   "id": "mobile-pastor",
   "metadata": {
    "scrolled": true
   },
   "outputs": [
    {
     "name": "stdout",
     "output_type": "stream",
     "text": [
      "Epoch 1/50\n",
      "9/9 [==============================] - 1s 102ms/step - loss: 1.3838 - accuracy: 0.5743 - val_loss: 1.3817 - val_accuracy: 0.4168\n",
      "Epoch 2/50\n",
      "9/9 [==============================] - 1s 77ms/step - loss: 1.3472 - accuracy: 0.9359 - val_loss: 1.3746 - val_accuracy: 0.4168\n",
      "Epoch 3/50\n",
      "9/9 [==============================] - 1s 76ms/step - loss: 1.2993 - accuracy: 0.9197 - val_loss: 1.3633 - val_accuracy: 0.4168\n",
      "Epoch 4/50\n",
      "9/9 [==============================] - 1s 75ms/step - loss: 1.2028 - accuracy: 0.9430 - val_loss: 1.3504 - val_accuracy: 0.4168\n",
      "Epoch 5/50\n",
      "9/9 [==============================] - 1s 76ms/step - loss: 1.0961 - accuracy: 0.9224 - val_loss: 1.3373 - val_accuracy: 0.4168\n",
      "Epoch 6/50\n",
      "9/9 [==============================] - 1s 75ms/step - loss: 0.9478 - accuracy: 0.9419 - val_loss: 1.3265 - val_accuracy: 0.4168\n",
      "Epoch 7/50\n",
      "9/9 [==============================] - 1s 75ms/step - loss: 0.8109 - accuracy: 0.9147 - val_loss: 1.3217 - val_accuracy: 0.4168\n",
      "Epoch 8/50\n",
      "9/9 [==============================] - 1s 75ms/step - loss: 0.7168 - accuracy: 0.9071 - val_loss: 1.3219 - val_accuracy: 0.4168\n",
      "Epoch 9/50\n",
      "9/9 [==============================] - 1s 77ms/step - loss: 0.6238 - accuracy: 0.9102 - val_loss: 1.3286 - val_accuracy: 0.4168\n",
      "Epoch 10/50\n",
      "9/9 [==============================] - 1s 78ms/step - loss: 0.5467 - accuracy: 0.9311 - val_loss: 1.3441 - val_accuracy: 0.4168\n",
      "Epoch 11/50\n",
      "9/9 [==============================] - 1s 76ms/step - loss: 0.5370 - accuracy: 0.9176 - val_loss: 1.3627 - val_accuracy: 0.4168\n",
      "Epoch 12/50\n",
      "9/9 [==============================] - 1s 78ms/step - loss: 0.4868 - accuracy: 0.9218 - val_loss: 1.3846 - val_accuracy: 0.4168\n",
      "Epoch 13/50\n",
      "9/9 [==============================] - 1s 80ms/step - loss: 0.4657 - accuracy: 0.9268 - val_loss: 1.4020 - val_accuracy: 0.4168\n",
      "Epoch 14/50\n",
      "9/9 [==============================] - 1s 80ms/step - loss: 0.4219 - accuracy: 0.9315 - val_loss: 1.4191 - val_accuracy: 0.4168\n",
      "Epoch 15/50\n",
      "9/9 [==============================] - 1s 79ms/step - loss: 0.4244 - accuracy: 0.9290 - val_loss: 1.4319 - val_accuracy: 0.4168\n",
      "Epoch 16/50\n",
      "9/9 [==============================] - 1s 80ms/step - loss: 0.4015 - accuracy: 0.9294 - val_loss: 1.4678 - val_accuracy: 0.4168\n",
      "Epoch 17/50\n",
      "9/9 [==============================] - 1s 82ms/step - loss: 0.3764 - accuracy: 0.9188 - val_loss: 1.5126 - val_accuracy: 0.4168\n",
      "Epoch 18/50\n",
      "9/9 [==============================] - 1s 88ms/step - loss: 0.3498 - accuracy: 0.9279 - val_loss: 1.5912 - val_accuracy: 0.4168\n",
      "Epoch 19/50\n",
      "9/9 [==============================] - 1s 85ms/step - loss: 0.3435 - accuracy: 0.9494 - val_loss: 1.6748 - val_accuracy: 0.4168\n",
      "Epoch 20/50\n",
      "9/9 [==============================] - 1s 85ms/step - loss: 0.3508 - accuracy: 0.9310 - val_loss: 1.7885 - val_accuracy: 0.4168\n",
      "Epoch 21/50\n",
      "9/9 [==============================] - 1s 82ms/step - loss: 0.3655 - accuracy: 0.9255 - val_loss: 1.8569 - val_accuracy: 0.4168\n",
      "Epoch 22/50\n",
      "9/9 [==============================] - 1s 82ms/step - loss: 0.3402 - accuracy: 0.9251 - val_loss: 1.9025 - val_accuracy: 0.4168\n",
      "Epoch 23/50\n",
      "9/9 [==============================] - 1s 84ms/step - loss: 0.3429 - accuracy: 0.9468 - val_loss: 1.8952 - val_accuracy: 0.4168\n",
      "Epoch 24/50\n",
      "9/9 [==============================] - 1s 83ms/step - loss: 0.3143 - accuracy: 0.9363 - val_loss: 1.8908 - val_accuracy: 0.4168\n",
      "Epoch 25/50\n",
      "9/9 [==============================] - 1s 86ms/step - loss: 0.2875 - accuracy: 0.9449 - val_loss: 1.8923 - val_accuracy: 0.4168\n",
      "Epoch 26/50\n",
      "9/9 [==============================] - 1s 85ms/step - loss: 0.2802 - accuracy: 0.9370 - val_loss: 1.8979 - val_accuracy: 0.4168\n",
      "Epoch 27/50\n",
      "9/9 [==============================] - 1s 86ms/step - loss: 0.2807 - accuracy: 0.9343 - val_loss: 1.7512 - val_accuracy: 0.4168\n",
      "Epoch 28/50\n",
      "9/9 [==============================] - 1s 88ms/step - loss: 0.3145 - accuracy: 0.9227 - val_loss: 1.7439 - val_accuracy: 0.4168\n",
      "Epoch 29/50\n",
      "9/9 [==============================] - 1s 90ms/step - loss: 0.2726 - accuracy: 0.9468 - val_loss: 1.8973 - val_accuracy: 0.4168\n",
      "Epoch 30/50\n",
      "9/9 [==============================] - 1s 86ms/step - loss: 0.3127 - accuracy: 0.9216 - val_loss: 1.9447 - val_accuracy: 0.4168\n",
      "Epoch 31/50\n",
      "9/9 [==============================] - 1s 85ms/step - loss: 0.2717 - accuracy: 0.9307 - val_loss: 1.8831 - val_accuracy: 0.4168\n",
      "Epoch 32/50\n",
      "9/9 [==============================] - 1s 90ms/step - loss: 0.3255 - accuracy: 0.9231 - val_loss: 1.7450 - val_accuracy: 0.4168\n",
      "Epoch 33/50\n",
      "9/9 [==============================] - 1s 88ms/step - loss: 0.2281 - accuracy: 0.9536 - val_loss: 1.6414 - val_accuracy: 0.4168\n",
      "Epoch 34/50\n",
      "9/9 [==============================] - 1s 89ms/step - loss: 0.2988 - accuracy: 0.9314 - val_loss: 1.4875 - val_accuracy: 0.4168\n",
      "Epoch 35/50\n",
      "9/9 [==============================] - 1s 89ms/step - loss: 0.3061 - accuracy: 0.9116 - val_loss: 1.3706 - val_accuracy: 0.4168\n",
      "Epoch 36/50\n",
      "9/9 [==============================] - 1s 92ms/step - loss: 0.3041 - accuracy: 0.9227 - val_loss: 1.3929 - val_accuracy: 0.4168\n",
      "Epoch 37/50\n",
      "9/9 [==============================] - 1s 87ms/step - loss: 0.3101 - accuracy: 0.9184 - val_loss: 1.7140 - val_accuracy: 0.4168\n",
      "Epoch 38/50\n",
      "9/9 [==============================] - 1s 90ms/step - loss: 0.3284 - accuracy: 0.9089 - val_loss: 2.1819 - val_accuracy: 0.4168\n",
      "Epoch 39/50\n",
      "9/9 [==============================] - 1s 92ms/step - loss: 0.2468 - accuracy: 0.9557 - val_loss: 2.2495 - val_accuracy: 0.4168\n",
      "Epoch 40/50\n",
      "9/9 [==============================] - 1s 89ms/step - loss: 0.3227 - accuracy: 0.9096 - val_loss: 2.4041 - val_accuracy: 0.4168\n",
      "Epoch 41/50\n",
      "9/9 [==============================] - 1s 88ms/step - loss: 0.2378 - accuracy: 0.9499 - val_loss: 2.3826 - val_accuracy: 0.4168\n",
      "Epoch 42/50\n",
      "9/9 [==============================] - 1s 88ms/step - loss: 0.2583 - accuracy: 0.9458 - val_loss: 2.8055 - val_accuracy: 0.4168\n",
      "Epoch 43/50\n",
      "9/9 [==============================] - 1s 88ms/step - loss: 0.2815 - accuracy: 0.9224 - val_loss: 3.0737 - val_accuracy: 0.4168\n",
      "Epoch 44/50\n",
      "9/9 [==============================] - 1s 89ms/step - loss: 0.2387 - accuracy: 0.9372 - val_loss: 3.1165 - val_accuracy: 0.4168\n",
      "Epoch 45/50\n",
      "9/9 [==============================] - 1s 87ms/step - loss: 0.3287 - accuracy: 0.9094 - val_loss: 3.2830 - val_accuracy: 0.4168\n",
      "Epoch 46/50\n",
      "9/9 [==============================] - 1s 90ms/step - loss: 0.2107 - accuracy: 0.9555 - val_loss: 3.5652 - val_accuracy: 0.4168\n",
      "Epoch 47/50\n",
      "9/9 [==============================] - 1s 91ms/step - loss: 0.3016 - accuracy: 0.9158 - val_loss: 3.7540 - val_accuracy: 0.4168\n",
      "Epoch 48/50\n",
      "9/9 [==============================] - 1s 93ms/step - loss: 0.2482 - accuracy: 0.9204 - val_loss: 3.3909 - val_accuracy: 0.4168\n",
      "Epoch 49/50\n",
      "9/9 [==============================] - 1s 93ms/step - loss: 0.2927 - accuracy: 0.9130 - val_loss: 3.7393 - val_accuracy: 0.4168\n",
      "Epoch 50/50\n",
      "9/9 [==============================] - 1s 87ms/step - loss: 0.2538 - accuracy: 0.9222 - val_loss: 4.0347 - val_accuracy: 0.4168\n"
     ]
    }
   ],
   "source": [
    "\n",
    "fittedModel = model.fit(X_train, Y_train, batch_size = 30, epochs = 50, validation_data=(X_val, Y_val),verbose=1)\n"
   ]
  },
  {
   "cell_type": "markdown",
   "id": "virtual-domain",
   "metadata": {},
   "source": [
    "### Deep "
   ]
  },
  {
   "cell_type": "code",
   "execution_count": 35,
   "id": "assisted-piano",
   "metadata": {
    "scrolled": true
   },
   "outputs": [
    {
     "name": "stdout",
     "output_type": "stream",
     "text": [
      "Epoch 1/50\n",
      "9/9 [==============================] - 1s 103ms/step - loss: 0.2410 - accuracy: 0.9234 - val_loss: 8.2888 - val_accuracy: 0.5411\n",
      "Epoch 2/50\n",
      "9/9 [==============================] - 1s 107ms/step - loss: 0.2286 - accuracy: 0.9195 - val_loss: 6.6818 - val_accuracy: 0.5430\n",
      "Epoch 3/50\n",
      "9/9 [==============================] - 1s 107ms/step - loss: 0.2462 - accuracy: 0.9234 - val_loss: 7.7835 - val_accuracy: 0.5411\n",
      "Epoch 4/50\n",
      "9/9 [==============================] - 1s 106ms/step - loss: 0.2317 - accuracy: 0.9387 - val_loss: 6.2485 - val_accuracy: 0.5411\n",
      "Epoch 5/50\n",
      "9/9 [==============================] - 1s 105ms/step - loss: 0.2262 - accuracy: 0.9272 - val_loss: 5.0136 - val_accuracy: 0.5411\n",
      "Epoch 6/50\n",
      "9/9 [==============================] - 1s 105ms/step - loss: 0.2163 - accuracy: 0.9310 - val_loss: 35.0607 - val_accuracy: 0.0274\n",
      "Epoch 7/50\n",
      "9/9 [==============================] - 1s 106ms/step - loss: 0.2168 - accuracy: 0.9195 - val_loss: 4.0921 - val_accuracy: 0.5411\n",
      "Epoch 8/50\n",
      "9/9 [==============================] - 1s 103ms/step - loss: 0.2518 - accuracy: 0.9234 - val_loss: 9.1906 - val_accuracy: 0.5411\n",
      "Epoch 9/50\n",
      "9/9 [==============================] - 1s 103ms/step - loss: 0.2289 - accuracy: 0.9272 - val_loss: 13.3534 - val_accuracy: 0.5411\n",
      "Epoch 10/50\n",
      "9/9 [==============================] - 1s 103ms/step - loss: 0.1760 - accuracy: 0.9464 - val_loss: 4.0184 - val_accuracy: 0.5411\n",
      "Epoch 11/50\n",
      "9/9 [==============================] - 1s 102ms/step - loss: 0.2861 - accuracy: 0.9310 - val_loss: 10.4365 - val_accuracy: 0.5411\n",
      "Epoch 12/50\n",
      "9/9 [==============================] - 1s 105ms/step - loss: 0.2626 - accuracy: 0.9272 - val_loss: 47.6144 - val_accuracy: 0.0274\n",
      "Epoch 13/50\n",
      "9/9 [==============================] - 1s 108ms/step - loss: 0.2534 - accuracy: 0.9310 - val_loss: 8.5751 - val_accuracy: 0.5411\n",
      "Epoch 14/50\n",
      "9/9 [==============================] - 1s 103ms/step - loss: 0.2073 - accuracy: 0.9310 - val_loss: 9.8447 - val_accuracy: 0.5411\n",
      "Epoch 15/50\n",
      "9/9 [==============================] - 1s 108ms/step - loss: 0.2369 - accuracy: 0.9234 - val_loss: 10.1322 - val_accuracy: 0.5411\n",
      "Epoch 16/50\n",
      "9/9 [==============================] - 1s 110ms/step - loss: 0.2583 - accuracy: 0.9234 - val_loss: 9.4355 - val_accuracy: 0.5411\n",
      "Epoch 17/50\n",
      "9/9 [==============================] - 1s 108ms/step - loss: 0.2168 - accuracy: 0.9272 - val_loss: 8.9598 - val_accuracy: 0.5411\n",
      "Epoch 18/50\n",
      "9/9 [==============================] - 1s 101ms/step - loss: 0.2854 - accuracy: 0.9234 - val_loss: 4.3617 - val_accuracy: 0.5411\n",
      "Epoch 19/50\n",
      "9/9 [==============================] - 1s 106ms/step - loss: 0.2130 - accuracy: 0.9234 - val_loss: 7.3816 - val_accuracy: 0.5411\n",
      "Epoch 20/50\n",
      "9/9 [==============================] - 1s 108ms/step - loss: 0.2557 - accuracy: 0.9272 - val_loss: 1.4740 - val_accuracy: 0.5411\n",
      "Epoch 21/50\n",
      "9/9 [==============================] - 1s 107ms/step - loss: 0.2143 - accuracy: 0.9272 - val_loss: 8.7398 - val_accuracy: 0.5411\n",
      "Epoch 22/50\n",
      "9/9 [==============================] - 1s 106ms/step - loss: 0.2135 - accuracy: 0.9464 - val_loss: 7.8382 - val_accuracy: 0.5411\n",
      "Epoch 23/50\n",
      "9/9 [==============================] - 1s 106ms/step - loss: 0.1998 - accuracy: 0.9349 - val_loss: 5.4008 - val_accuracy: 0.5411\n",
      "Epoch 24/50\n",
      "9/9 [==============================] - 1s 103ms/step - loss: 0.2322 - accuracy: 0.9234 - val_loss: 8.5659 - val_accuracy: 0.5411\n",
      "Epoch 25/50\n",
      "9/9 [==============================] - 1s 106ms/step - loss: 0.2266 - accuracy: 0.9272 - val_loss: 8.0142 - val_accuracy: 0.5411\n",
      "Epoch 26/50\n",
      "9/9 [==============================] - 1s 106ms/step - loss: 0.2273 - accuracy: 0.9234 - val_loss: 7.2212 - val_accuracy: 0.5411\n",
      "Epoch 27/50\n",
      "9/9 [==============================] - 1s 107ms/step - loss: 0.2551 - accuracy: 0.9234 - val_loss: 17.2302 - val_accuracy: 0.0274\n",
      "Epoch 28/50\n",
      "9/9 [==============================] - 1s 104ms/step - loss: 0.1976 - accuracy: 0.9310 - val_loss: 28.5678 - val_accuracy: 0.0274\n",
      "Epoch 29/50\n",
      "9/9 [==============================] - 1s 107ms/step - loss: 0.2059 - accuracy: 0.9272 - val_loss: 12.2934 - val_accuracy: 0.0274\n",
      "Epoch 30/50\n",
      "9/9 [==============================] - 1s 103ms/step - loss: 0.2265 - accuracy: 0.9272 - val_loss: 5.7952 - val_accuracy: 0.5411\n",
      "Epoch 31/50\n",
      "9/9 [==============================] - 1s 100ms/step - loss: 0.2142 - accuracy: 0.9272 - val_loss: 7.0231 - val_accuracy: 0.5411\n",
      "Epoch 32/50\n",
      "9/9 [==============================] - 1s 105ms/step - loss: 0.2229 - accuracy: 0.9272 - val_loss: 11.6520 - val_accuracy: 0.0274\n",
      "Epoch 33/50\n",
      "9/9 [==============================] - 1s 105ms/step - loss: 0.2316 - accuracy: 0.9272 - val_loss: 9.0549 - val_accuracy: 0.5411\n",
      "Epoch 34/50\n",
      "9/9 [==============================] - 1s 107ms/step - loss: 0.2288 - accuracy: 0.9234 - val_loss: 1.7414 - val_accuracy: 0.4314\n",
      "Epoch 35/50\n",
      "9/9 [==============================] - 1s 105ms/step - loss: 0.2243 - accuracy: 0.9272 - val_loss: 4.6645 - val_accuracy: 0.5411\n",
      "Epoch 36/50\n",
      "9/9 [==============================] - 1s 108ms/step - loss: 0.2391 - accuracy: 0.9349 - val_loss: 3.3309 - val_accuracy: 0.5411\n",
      "Epoch 37/50\n",
      "9/9 [==============================] - 1s 103ms/step - loss: 0.2080 - accuracy: 0.9310 - val_loss: 4.4953 - val_accuracy: 0.5411\n",
      "Epoch 38/50\n",
      "9/9 [==============================] - 1s 107ms/step - loss: 0.2127 - accuracy: 0.9310 - val_loss: 7.7017 - val_accuracy: 0.5411\n",
      "Epoch 39/50\n",
      "9/9 [==============================] - 1s 107ms/step - loss: 0.2462 - accuracy: 0.9234 - val_loss: 10.0739 - val_accuracy: 0.5411\n",
      "Epoch 40/50\n",
      "9/9 [==============================] - 1s 104ms/step - loss: 0.1956 - accuracy: 0.9349 - val_loss: 10.9571 - val_accuracy: 0.5411\n",
      "Epoch 41/50\n",
      "9/9 [==============================] - 1s 104ms/step - loss: 0.2986 - accuracy: 0.9234 - val_loss: 9.3134 - val_accuracy: 0.5411\n",
      "Epoch 42/50\n",
      "9/9 [==============================] - 1s 108ms/step - loss: 0.2139 - accuracy: 0.9272 - val_loss: 8.7360 - val_accuracy: 0.5411\n",
      "Epoch 43/50\n",
      "9/9 [==============================] - 1s 103ms/step - loss: 0.2469 - accuracy: 0.9272 - val_loss: 7.4779 - val_accuracy: 0.5411\n",
      "Epoch 44/50\n",
      "9/9 [==============================] - 1s 106ms/step - loss: 0.2145 - accuracy: 0.9234 - val_loss: 11.2180 - val_accuracy: 0.0274\n",
      "Epoch 45/50\n",
      "9/9 [==============================] - 1s 109ms/step - loss: 0.2414 - accuracy: 0.9157 - val_loss: 9.3039 - val_accuracy: 0.0311\n",
      "Epoch 46/50\n",
      "9/9 [==============================] - 1s 101ms/step - loss: 0.2079 - accuracy: 0.9310 - val_loss: 7.2807 - val_accuracy: 0.5411\n",
      "Epoch 47/50\n",
      "9/9 [==============================] - 1s 108ms/step - loss: 0.2461 - accuracy: 0.9234 - val_loss: 3.0214 - val_accuracy: 0.5411\n",
      "Epoch 48/50\n",
      "9/9 [==============================] - 1s 107ms/step - loss: 0.3062 - accuracy: 0.9349 - val_loss: 6.8001 - val_accuracy: 0.5411\n",
      "Epoch 49/50\n",
      "9/9 [==============================] - 1s 108ms/step - loss: 0.2714 - accuracy: 0.9234 - val_loss: 13.7756 - val_accuracy: 0.0311\n",
      "Epoch 50/50\n",
      "9/9 [==============================] - 1s 102ms/step - loss: 0.2086 - accuracy: 0.9349 - val_loss: 5.8406 - val_accuracy: 0.5411\n"
     ]
    }
   ],
   "source": [
    "fittedModel2 = model2.fit(X_train, Y_train, batch_size = 30, epochs = 50, validation_data=(X_val, Y_val),verbose=1)"
   ]
  },
  {
   "cell_type": "markdown",
   "id": "spiritual-throw",
   "metadata": {},
   "source": [
    "### Shallow"
   ]
  },
  {
   "cell_type": "code",
   "execution_count": 36,
   "id": "integral-motel",
   "metadata": {
    "scrolled": true
   },
   "outputs": [
    {
     "name": "stdout",
     "output_type": "stream",
     "text": [
      "Epoch 1/50\n",
      "9/9 [==============================] - 2s 127ms/step - loss: 1.0240 - accuracy: 0.6743 - val_loss: 5.1612 - val_accuracy: 0.0146\n",
      "Epoch 2/50\n",
      "9/9 [==============================] - 1s 112ms/step - loss: 0.4113 - accuracy: 0.9184 - val_loss: 5.0187 - val_accuracy: 0.5411\n",
      "Epoch 3/50\n",
      "9/9 [==============================] - 1s 104ms/step - loss: 0.2234 - accuracy: 0.9512 - val_loss: 2.3010 - val_accuracy: 0.5411\n",
      "Epoch 4/50\n",
      "9/9 [==============================] - 1s 103ms/step - loss: 0.2580 - accuracy: 0.9209 - val_loss: 4.6601 - val_accuracy: 0.5411\n",
      "Epoch 5/50\n",
      "9/9 [==============================] - 1s 99ms/step - loss: 0.2432 - accuracy: 0.9342 - val_loss: 4.7272 - val_accuracy: 0.5411\n",
      "Epoch 6/50\n",
      "9/9 [==============================] - 1s 101ms/step - loss: 0.2143 - accuracy: 0.9375 - val_loss: 8.3290 - val_accuracy: 0.5411\n",
      "Epoch 7/50\n",
      "9/9 [==============================] - 1s 100ms/step - loss: 0.2967 - accuracy: 0.9154 - val_loss: 3.3469 - val_accuracy: 0.0146\n",
      "Epoch 8/50\n",
      "9/9 [==============================] - 1s 102ms/step - loss: 0.2282 - accuracy: 0.9372 - val_loss: 4.9135 - val_accuracy: 0.0146\n",
      "Epoch 9/50\n",
      "9/9 [==============================] - 1s 106ms/step - loss: 0.2743 - accuracy: 0.9127 - val_loss: 7.5263 - val_accuracy: 0.0146\n",
      "Epoch 10/50\n",
      "9/9 [==============================] - 1s 102ms/step - loss: 0.2671 - accuracy: 0.9331 - val_loss: 3.4288 - val_accuracy: 0.0420\n",
      "Epoch 11/50\n",
      "9/9 [==============================] - 1s 103ms/step - loss: 0.2161 - accuracy: 0.9319 - val_loss: 3.5894 - val_accuracy: 0.4168\n",
      "Epoch 12/50\n",
      "9/9 [==============================] - 1s 100ms/step - loss: 0.2451 - accuracy: 0.9208 - val_loss: 1.7770 - val_accuracy: 0.0165\n",
      "Epoch 13/50\n",
      "9/9 [==============================] - 1s 105ms/step - loss: 0.2848 - accuracy: 0.9266 - val_loss: 6.3576 - val_accuracy: 0.0146\n",
      "Epoch 14/50\n",
      "9/9 [==============================] - 1s 102ms/step - loss: 0.2667 - accuracy: 0.9221 - val_loss: 4.3618 - val_accuracy: 0.5411\n",
      "Epoch 15/50\n",
      "9/9 [==============================] - 1s 101ms/step - loss: 0.2530 - accuracy: 0.9201 - val_loss: 10.3029 - val_accuracy: 0.0146\n",
      "Epoch 16/50\n",
      "9/9 [==============================] - 1s 100ms/step - loss: 0.2152 - accuracy: 0.9404 - val_loss: 3.7180 - val_accuracy: 0.0146\n",
      "Epoch 17/50\n",
      "9/9 [==============================] - 1s 109ms/step - loss: 0.2421 - accuracy: 0.9487 - val_loss: 3.2976 - val_accuracy: 0.0146\n",
      "Epoch 18/50\n",
      "9/9 [==============================] - 1s 101ms/step - loss: 0.3498 - accuracy: 0.9135 - val_loss: 1.4308 - val_accuracy: 0.0146\n",
      "Epoch 19/50\n",
      "9/9 [==============================] - 1s 104ms/step - loss: 0.2370 - accuracy: 0.9299 - val_loss: 1.6892 - val_accuracy: 0.0146\n",
      "Epoch 20/50\n",
      "9/9 [==============================] - 1s 107ms/step - loss: 0.2997 - accuracy: 0.9020 - val_loss: 5.6420 - val_accuracy: 0.0146\n",
      "Epoch 21/50\n",
      "9/9 [==============================] - 1s 105ms/step - loss: 0.2279 - accuracy: 0.9268 - val_loss: 5.5279 - val_accuracy: 0.0146\n",
      "Epoch 22/50\n",
      "9/9 [==============================] - 1s 103ms/step - loss: 0.2722 - accuracy: 0.9234 - val_loss: 6.7299 - val_accuracy: 0.0146\n",
      "Epoch 23/50\n",
      "9/9 [==============================] - 1s 110ms/step - loss: 0.2508 - accuracy: 0.9328 - val_loss: 8.4174 - val_accuracy: 0.0146\n",
      "Epoch 24/50\n",
      "9/9 [==============================] - 1s 99ms/step - loss: 0.2047 - accuracy: 0.9269 - val_loss: 17.4068 - val_accuracy: 0.0146\n",
      "Epoch 25/50\n",
      "9/9 [==============================] - 1s 100ms/step - loss: 0.2474 - accuracy: 0.9238 - val_loss: 1.5676 - val_accuracy: 0.0311\n",
      "Epoch 26/50\n",
      "9/9 [==============================] - 1s 101ms/step - loss: 0.2473 - accuracy: 0.9301 - val_loss: 9.8459 - val_accuracy: 0.0146\n",
      "Epoch 27/50\n",
      "9/9 [==============================] - 1s 104ms/step - loss: 0.2859 - accuracy: 0.9193 - val_loss: 1.8010 - val_accuracy: 0.0146\n",
      "Epoch 28/50\n",
      "9/9 [==============================] - 1s 102ms/step - loss: 0.1739 - accuracy: 0.9542 - val_loss: 8.8367 - val_accuracy: 0.0146\n",
      "Epoch 29/50\n",
      "9/9 [==============================] - 1s 105ms/step - loss: 0.2140 - accuracy: 0.9294 - val_loss: 14.3079 - val_accuracy: 0.0146\n",
      "Epoch 30/50\n",
      "9/9 [==============================] - 1s 103ms/step - loss: 0.1826 - accuracy: 0.9507 - val_loss: 5.7641 - val_accuracy: 0.0146\n",
      "Epoch 31/50\n",
      "9/9 [==============================] - 1s 105ms/step - loss: 0.2406 - accuracy: 0.9328 - val_loss: 10.2781 - val_accuracy: 0.5411\n",
      "Epoch 32/50\n",
      "9/9 [==============================] - 1s 103ms/step - loss: 0.2185 - accuracy: 0.9443 - val_loss: 16.2364 - val_accuracy: 0.0293\n",
      "Epoch 33/50\n",
      "9/9 [==============================] - 1s 108ms/step - loss: 0.2647 - accuracy: 0.9334 - val_loss: 6.2476 - val_accuracy: 0.5411\n",
      "Epoch 34/50\n",
      "9/9 [==============================] - 1s 111ms/step - loss: 0.2246 - accuracy: 0.9417 - val_loss: 16.1426 - val_accuracy: 0.0311\n",
      "Epoch 35/50\n",
      "9/9 [==============================] - 1s 109ms/step - loss: 0.3594 - accuracy: 0.9209 - val_loss: 11.6379 - val_accuracy: 0.0311\n",
      "Epoch 36/50\n",
      "9/9 [==============================] - 1s 108ms/step - loss: 0.2586 - accuracy: 0.9259 - val_loss: 15.6546 - val_accuracy: 0.0274\n",
      "Epoch 37/50\n",
      "9/9 [==============================] - 1s 109ms/step - loss: 0.2582 - accuracy: 0.9223 - val_loss: 8.7621 - val_accuracy: 0.5411\n",
      "Epoch 38/50\n",
      "9/9 [==============================] - 1s 102ms/step - loss: 0.2142 - accuracy: 0.9552 - val_loss: 17.6781 - val_accuracy: 0.0274\n",
      "Epoch 39/50\n",
      "9/9 [==============================] - 1s 100ms/step - loss: 0.1983 - accuracy: 0.9411 - val_loss: 7.4692 - val_accuracy: 0.0146\n",
      "Epoch 40/50\n",
      "9/9 [==============================] - 1s 100ms/step - loss: 0.3347 - accuracy: 0.9320 - val_loss: 4.8061 - val_accuracy: 0.5411\n",
      "Epoch 41/50\n",
      "9/9 [==============================] - 1s 100ms/step - loss: 0.2693 - accuracy: 0.9443 - val_loss: 12.1943 - val_accuracy: 0.0146\n",
      "Epoch 42/50\n",
      "9/9 [==============================] - 1s 100ms/step - loss: 0.2301 - accuracy: 0.9482 - val_loss: 4.6782 - val_accuracy: 0.5411\n",
      "Epoch 43/50\n",
      "9/9 [==============================] - 1s 101ms/step - loss: 0.2383 - accuracy: 0.9345 - val_loss: 6.1738 - val_accuracy: 0.5411\n",
      "Epoch 44/50\n",
      "9/9 [==============================] - 1s 102ms/step - loss: 0.2115 - accuracy: 0.9412 - val_loss: 1.3335 - val_accuracy: 0.4314\n",
      "Epoch 45/50\n",
      "9/9 [==============================] - 1s 101ms/step - loss: 0.2451 - accuracy: 0.9358 - val_loss: 10.7634 - val_accuracy: 0.0311\n",
      "Epoch 46/50\n",
      "9/9 [==============================] - 1s 100ms/step - loss: 0.2400 - accuracy: 0.9215 - val_loss: 25.7111 - val_accuracy: 0.0274\n",
      "Epoch 47/50\n",
      "9/9 [==============================] - 1s 100ms/step - loss: 0.2273 - accuracy: 0.9498 - val_loss: 5.2791 - val_accuracy: 0.5411\n",
      "Epoch 48/50\n",
      "9/9 [==============================] - 1s 100ms/step - loss: 0.2901 - accuracy: 0.9336 - val_loss: 7.8110 - val_accuracy: 0.0146\n",
      "Epoch 49/50\n",
      "9/9 [==============================] - 1s 102ms/step - loss: 0.3590 - accuracy: 0.9149 - val_loss: 3.3368 - val_accuracy: 0.4314\n",
      "Epoch 50/50\n",
      "9/9 [==============================] - 1s 100ms/step - loss: 0.2739 - accuracy: 0.9288 - val_loss: 6.7042 - val_accuracy: 0.5411\n"
     ]
    }
   ],
   "source": [
    "fittedModel3 = model3.fit(X_train, Y_train, batch_size = 30, epochs = 50, validation_data=(X_val, Y_val),verbose=1)"
   ]
  },
  {
   "cell_type": "markdown",
   "id": "foster-prayer",
   "metadata": {},
   "source": [
    "# Model Performance"
   ]
  },
  {
   "cell_type": "markdown",
   "id": "breathing-adoption",
   "metadata": {},
   "source": [
    "### EEGNet"
   ]
  },
  {
   "cell_type": "code",
   "execution_count": 46,
   "id": "lyric-dietary",
   "metadata": {},
   "outputs": [
    {
     "name": "stdout",
     "output_type": "stream",
     "text": [
      "dict_keys(['loss', 'accuracy', 'val_loss', 'val_accuracy'])\n"
     ]
    },
    {
     "data": {
      "image/png": "[encoded data removed]",
      "text/plain": [
       "<Figure size 432x288 with 1 Axes>"
      ]
     },
     "metadata": {
      "needs_background": "light"
     },
     "output_type": "display_data"
    },
    {
     "data": {
      "image/png": "[encoded data removed]",
      "text/plain": [
       "<Figure size 432x288 with 1 Axes>"
      ]
     },
     "metadata": {
      "needs_background": "light"
     },
     "output_type": "display_data"
    }
   ],
   "source": [
    "\n",
    "history = fittedModel\n",
    "\n",
    "# list all data in history\n",
    "print(history.history.keys())\n",
    "# summarize history for accuracy\n",
    "plt.plot(history.history['accuracy'])\n",
    "plt.plot(history.history['val_accuracy'])\n",
    "plt.title('model accuracy')\n",
    "plt.ylabel('accuracy')\n",
    "plt.xlabel('epoch')\n",
    "plt.legend(['train', 'test'], loc='upper left')\n",
    "plt.show()\n",
    "# summarize history for loss\n",
    "plt.plot(history.history['loss'])\n",
    "plt.plot(history.history['val_loss'])\n",
    "plt.title('model loss')\n",
    "plt.ylabel('loss')\n",
    "plt.xlabel('epoch')\n",
    "plt.legend(['train', 'test'], loc='upper left')\n",
    "plt.show()"
   ]
  },
  {
   "cell_type": "markdown",
   "id": "ruled-poker",
   "metadata": {},
   "source": [
    "### Deep"
   ]
  },
  {
   "cell_type": "code",
   "execution_count": 47,
   "id": "signed-joshua",
   "metadata": {},
   "outputs": [
    {
     "name": "stdout",
     "output_type": "stream",
     "text": [
      "dict_keys(['loss', 'accuracy', 'val_loss', 'val_accuracy'])\n"
     ]
    },
    {
     "data": {
      "image/png": "[encoded data removed]",
      "text/plain": [
       "<Figure size 432x288 with 1 Axes>"
      ]
     },
     "metadata": {
      "needs_background": "light"
     },
     "output_type": "display_data"
    },
    {
     "data": {
      "image/png": "[encoded data removed]",
      "text/plain": [
       "<Figure size 432x288 with 1 Axes>"
      ]
     },
     "metadata": {
      "needs_background": "light"
     },
     "output_type": "display_data"
    }
   ],
   "source": [
    "\n",
    "history = fittedModel2\n",
    "\n",
    "# list all data in history\n",
    "print(history.history.keys())\n",
    "# summarize history for accuracy\n",
    "plt.plot(history.history['accuracy'])\n",
    "plt.plot(history.history['val_accuracy'])\n",
    "plt.title('model accuracy')\n",
    "plt.ylabel('accuracy')\n",
    "plt.xlabel('epoch')\n",
    "plt.legend(['train', 'test'], loc='upper left')\n",
    "plt.show()\n",
    "# summarize history for loss\n",
    "plt.plot(history.history['loss'])\n",
    "plt.plot(history.history['val_loss'])\n",
    "plt.title('model loss')\n",
    "plt.ylabel('loss')\n",
    "plt.xlabel('epoch')\n",
    "plt.legend(['train', 'test'], loc='upper left')\n",
    "plt.show()"
   ]
  },
  {
   "cell_type": "markdown",
   "id": "august-cemetery",
   "metadata": {},
   "source": [
    "### Shallow"
   ]
  },
  {
   "cell_type": "code",
   "execution_count": 48,
   "id": "satellite-confidentiality",
   "metadata": {},
   "outputs": [
    {
     "name": "stdout",
     "output_type": "stream",
     "text": [
      "dict_keys(['loss', 'accuracy', 'val_loss', 'val_accuracy'])\n"
     ]
    },
    {
     "data": {
      "image/png": "[encoded data removed]",
      "text/plain": [
       "<Figure size 432x288 with 1 Axes>"
      ]
     },
     "metadata": {
      "needs_background": "light"
     },
     "output_type": "display_data"
    },
    {
     "data": {
      "image/png": "[encoded data removed]",
      "text/plain": [
       "<Figure size 432x288 with 1 Axes>"
      ]
     },
     "metadata": {
      "needs_background": "light"
     },
     "output_type": "display_data"
    }
   ],
   "source": [
    "\n",
    "history = fittedModel3\n",
    "\n",
    "# list all data in history\n",
    "print(history.history.keys())\n",
    "# summarize history for accuracy\n",
    "plt.plot(history.history['accuracy'])\n",
    "plt.plot(history.history['val_accuracy'])\n",
    "plt.title('model accuracy')\n",
    "plt.ylabel('accuracy')\n",
    "plt.xlabel('epoch')\n",
    "plt.legend(['train', 'test'], loc='upper left')\n",
    "plt.show()\n",
    "# summarize history for loss\n",
    "plt.plot(history.history['loss'])\n",
    "plt.plot(history.history['val_loss'])\n",
    "plt.title('model loss')\n",
    "plt.ylabel('loss')\n",
    "plt.xlabel('epoch')\n",
    "plt.legend(['train', 'test'], loc='upper left')\n",
    "plt.show()"
   ]
  },
  {
   "cell_type": "markdown",
   "id": "occupational-sector",
   "metadata": {},
   "source": [
    "# Save Models"
   ]
  },
  {
   "cell_type": "code",
   "execution_count": 38,
   "id": "naval-given",
   "metadata": {},
   "outputs": [
    {
     "name": "stdout",
     "output_type": "stream",
     "text": [
      "INFO:tensorflow:Assets written to: models/eegnet_1/assets\n",
      "INFO:tensorflow:Assets written to: models/deep_1/assets\n",
      "INFO:tensorflow:Assets written to: models/shallow_1/assets\n"
     ]
    }
   ],
   "source": [
    "# # model.save(r'models/eegnet_1')\n",
    "# model.save(r'models/eegnet_1')\n",
    "# model2.save(r'models/deep_1')\n",
    "# model3.save(r'models/shallow_1')"
   ]
  },
  {
   "cell_type": "code",
   "execution_count": null,
   "id": "whole-warrant",
   "metadata": {},
   "outputs": [],
   "source": []
  }
 ],
 "metadata": {
  "kernelspec": {
   "display_name": "Python 3",
   "language": "python",
   "name": "python3"
  },
  "language_info": {
   "codemirror_mode": {
    "name": "ipython",
    "version": 3
   },
   "file_extension": ".py",
   "mimetype": "text/x-python",
   "name": "python",
   "nbconvert_exporter": "python",
   "pygments_lexer": "ipython3",
   "version": "3.8.5"
  }
 },
 "nbformat": 4,
 "nbformat_minor": 5
}
